{
 "cells": [
  {
   "cell_type": "markdown",
   "id": "8501f0e8",
   "metadata": {},
   "source": [
    "# OESON Assignment 2"
   ]
  },
  {
   "cell_type": "markdown",
   "id": "e3664dcd",
   "metadata": {},
   "source": [
    "1. Python program to add two numbers."
   ]
  },
  {
   "cell_type": "code",
   "execution_count": null,
   "id": "03a3abb8",
   "metadata": {},
   "outputs": [],
   "source": [
    "a = int(input(\"Enter a number: \"))\n",
    "b = int(input(\"Enter a number: \"))\n",
    "\n",
    "print(a + b)"
   ]
  },
  {
   "cell_type": "code",
   "execution_count": null,
   "id": "91444ed4",
   "metadata": {},
   "outputs": [],
   "source": [
    "def addnumber(a, b):\n",
    "    return a + b"
   ]
  },
  {
   "cell_type": "code",
   "execution_count": null,
   "id": "315bbe19",
   "metadata": {},
   "outputs": [],
   "source": [
    "addnumber(3, 4)"
   ]
  },
  {
   "cell_type": "markdown",
   "id": "09c3385a",
   "metadata": {},
   "source": [
    "2. Maximum of two numbers in Python"
   ]
  },
  {
   "cell_type": "code",
   "execution_count": null,
   "id": "cc25ad0d",
   "metadata": {},
   "outputs": [],
   "source": [
    "a = int(input(\"Enter a number: \"))\n",
    "b = int(input(\"Enter a number: \"))\n",
    "\n",
    "print(max(a, b))"
   ]
  },
  {
   "cell_type": "code",
   "execution_count": null,
   "id": "523a5f1b",
   "metadata": {},
   "outputs": [],
   "source": [
    "def maxnumber(a, b):\n",
    "    return max(a,b)"
   ]
  },
  {
   "cell_type": "code",
   "execution_count": null,
   "id": "4019a725",
   "metadata": {},
   "outputs": [],
   "source": [
    "maxnumber(4, 7)"
   ]
  },
  {
   "cell_type": "markdown",
   "id": "2aa35ebe",
   "metadata": {},
   "source": [
    "3. Python program for the factorial of a number."
   ]
  },
  {
   "cell_type": "code",
   "execution_count": null,
   "id": "8a407bad",
   "metadata": {},
   "outputs": [],
   "source": [
    "x = int(input(\"Enter a positive number: \"))\n",
    "\n",
    "factorial = 1\n",
    "\n",
    "if x < 0:\n",
    "    print(\"We cannot calculate the factorial of negative numbers.\")\n",
    "elif x == 0:\n",
    "    print(1)\n",
    "else:\n",
    "    for i in range(1, x+1):\n",
    "        factorial = factorial * i\n",
    "\n",
    "    print(\"The factorial of {} is: {}\".format(x, factorial))"
   ]
  },
  {
   "cell_type": "code",
   "execution_count": null,
   "id": "0f0432cb",
   "metadata": {},
   "outputs": [],
   "source": [
    "def factorialnumber(x = 2):\n",
    "    factorial = 1\n",
    "    if x < 0:\n",
    "        return \"We cannot calculate the factorial of negative numbers.\"\n",
    "    elif x == 0:\n",
    "        return 1\n",
    "    else:\n",
    "        for i in range(1, x+1):\n",
    "            factorial *= i\n",
    "        return factorial\n",
    "    "
   ]
  },
  {
   "cell_type": "code",
   "execution_count": null,
   "id": "dfbff5f3",
   "metadata": {},
   "outputs": [],
   "source": [
    "factorialnumber(x=3)"
   ]
  },
  {
   "cell_type": "markdown",
   "id": "c92d8e83",
   "metadata": {},
   "source": [
    "4. Python program for simple interest."
   ]
  },
  {
   "cell_type": "markdown",
   "id": "d41f6d00",
   "metadata": {},
   "source": [
    "A = P(1 + rt)\n",
    "A is the final amount.\n",
    "P is the initial principle balance.\n",
    "r is the annual interest rate.\n",
    "t is the time in years."
   ]
  },
  {
   "cell_type": "code",
   "execution_count": null,
   "id": "9001d573",
   "metadata": {},
   "outputs": [],
   "source": [
    "# Principal, Rate, Time are the parameters for this function\n",
    "principal = float(input(\"Enter the principal amount: \"))\n",
    "rate = float(input(\"Enter the rate of interest (2 dp): \"))\n",
    "time = float(input(\"Enter the time period (in years): \"))\n",
    "\n",
    "\n",
    "A = principal*(1 + rate* time)\n",
    "print(A)"
   ]
  },
  {
   "cell_type": "code",
   "execution_count": null,
   "id": "758c3cd2",
   "metadata": {},
   "outputs": [],
   "source": [
    "def simple_interest(p, r, t):\n",
    "    A = p*(1+(r*t))\n",
    "    return A"
   ]
  },
  {
   "cell_type": "code",
   "execution_count": null,
   "id": "f9f4f663",
   "metadata": {},
   "outputs": [],
   "source": [
    "simple_interest(25, 0.35, 45)"
   ]
  },
  {
   "cell_type": "markdown",
   "id": "5257dfa2",
   "metadata": {},
   "source": [
    "5. Python program for compound interest."
   ]
  },
  {
   "cell_type": "markdown",
   "id": "24d2a33c",
   "metadata": {},
   "source": [
    "A = P(1+r/n)^n/t, where A is the final amount, P is the initial principle balance, r is the interest rate, n is the number of times interest is applied per time period, t is the number of time periods elapsed."
   ]
  },
  {
   "cell_type": "code",
   "execution_count": null,
   "id": "51b666c6",
   "metadata": {},
   "outputs": [],
   "source": [
    "P = float(input(\"Enter the principle amount: \"))\n",
    "r = float(input(\"Enter the interest rate: \"))\n",
    "n = float(input(\"Enter the number of times interest is applied: \"))\n",
    "t = float(input(\"Enter the number of time periods elapsed: \"))\n",
    "\n",
    "A = P*(1+r/n)**(n/t)\n",
    "print(A)"
   ]
  },
  {
   "cell_type": "code",
   "execution_count": null,
   "id": "649a071d",
   "metadata": {},
   "outputs": [],
   "source": [
    "def compound_interest(P, r, n, t):\n",
    "    A = P*(1+(r/n))**(n/t)\n",
    "    return A"
   ]
  },
  {
   "cell_type": "code",
   "execution_count": null,
   "id": "fd2db6d3",
   "metadata": {},
   "outputs": [],
   "source": [
    "compound_interest(1000, 0.32, 12, 3)"
   ]
  },
  {
   "cell_type": "markdown",
   "id": "7dc782d8",
   "metadata": {},
   "source": [
    "6. Python program to check Armstrong number."
   ]
  },
  {
   "cell_type": "markdown",
   "id": "251b0ee3",
   "metadata": {},
   "source": [
    "P is the number, n is the number of digits in the number."
   ]
  },
  {
   "cell_type": "code",
   "execution_count": null,
   "id": "3c40185c",
   "metadata": {},
   "outputs": [],
   "source": [
    "def armstrong_number(n):\n",
    "    string_n = str(n)\n",
    "    digit_n = len(string_n)\n",
    "    sum_digits = sum(int(digit) ** digit_n for digit in string_n)\n",
    "    return sum_digits == n\n",
    "\n",
    "n = 371\n",
    "if armstrong_number(n):\n",
    "    print(f\"{n} is an Armstrong number.\")\n",
    "else: \n",
    "    print(f\"{n} is not an Armstrong number.\")"
   ]
  },
  {
   "cell_type": "markdown",
   "id": "fe35cd8f",
   "metadata": {},
   "source": [
    "7. Python program to find the area of a circle"
   ]
  },
  {
   "cell_type": "code",
   "execution_count": null,
   "id": "af02d329",
   "metadata": {},
   "outputs": [],
   "source": [
    "import math\n",
    "def area_circle(r):\n",
    "    A = 2*math.pi*(r**2)\n",
    "    return A"
   ]
  },
  {
   "cell_type": "code",
   "execution_count": null,
   "id": "9169d62e",
   "metadata": {},
   "outputs": [],
   "source": [
    "area_circle(3)"
   ]
  },
  {
   "cell_type": "code",
   "execution_count": null,
   "id": "9c7245b8",
   "metadata": {},
   "outputs": [],
   "source": [
    "pi = math.pi\n",
    "r = int(input(\"Enter a number: \"))\n",
    "\n",
    "A = 2 * math.pi * (r**2)\n",
    "print(A)"
   ]
  },
  {
   "cell_type": "markdown",
   "id": "ae262e3e",
   "metadata": {},
   "source": [
    "8. Python program to print all numbers within an interval"
   ]
  },
  {
   "cell_type": "code",
   "execution_count": null,
   "id": "1375bb41",
   "metadata": {},
   "outputs": [],
   "source": [
    "low_n = int(input(\"Enter the lower number in the range: \"))\n",
    "high_n = int(input(\"Enter the higher number in the range: \"))\n",
    "\n",
    "if low_n > high_n:\n",
    "    print(\"There has been an error.\")\n",
    "elif low_n == high_n:\n",
    "    print(low_n)\n",
    "else:\n",
    "    for n in range(low_n, high_n + 1):\n",
    "        print(n)"
   ]
  },
  {
   "cell_type": "code",
   "execution_count": null,
   "id": "bed2e0b9",
   "metadata": {},
   "outputs": [],
   "source": [
    "def interval_number(low_n, high_n):\n",
    "    if low_n > high_n:\n",
    "        return \"There has been an error. The lower number must be smaller than the higher number.\"\n",
    "    elif low_n == high_n:\n",
    "        return low_n\n",
    "    else:\n",
    "        for n in range(low_n, high_n + 1):\n",
    "            return n"
   ]
  },
  {
   "cell_type": "markdown",
   "id": "b59e137e",
   "metadata": {},
   "source": [
    "9. Python program to check whether a number is prime or not."
   ]
  },
  {
   "cell_type": "code",
   "execution_count": 3,
   "id": "dd330a00",
   "metadata": {},
   "outputs": [],
   "source": [
    "#n = int(input(\"Enter a number: \"))\n",
    "\n",
    "def is_prime(number):\n",
    "    if number <= 1:\n",
    "        return False\n",
    "    elif 1 < number <= 3:\n",
    "        return True\n",
    "    elif number % 2 == 0 or number % 3 == 0:\n",
    "        return False\n",
    "    \n",
    "    i = 4\n",
    "    while i <= (number/2):\n",
    "        if number % i == 0:\n",
    "            return False\n",
    "        i += 1\n",
    "    return True"
   ]
  },
  {
   "cell_type": "code",
   "execution_count": 12,
   "id": "830f8d88",
   "metadata": {},
   "outputs": [
    {
     "data": {
      "text/plain": [
       "False"
      ]
     },
     "execution_count": 12,
     "metadata": {},
     "output_type": "execute_result"
    }
   ],
   "source": [
    "is_prime(51)"
   ]
  },
  {
   "cell_type": "code",
   "execution_count": 10,
   "id": "e2fe45c7",
   "metadata": {},
   "outputs": [
    {
     "data": {
      "text/plain": [
       "True"
      ]
     },
     "execution_count": 10,
     "metadata": {},
     "output_type": "execute_result"
    }
   ],
   "source": [
    "is_prime(7)"
   ]
  },
  {
   "cell_type": "code",
   "execution_count": 11,
   "id": "3869cb39",
   "metadata": {},
   "outputs": [
    {
     "data": {
      "text/plain": [
       "False"
      ]
     },
     "execution_count": 11,
     "metadata": {},
     "output_type": "execute_result"
    }
   ],
   "source": [
    "is_prime(10)"
   ]
  },
  {
   "cell_type": "markdown",
   "id": "177a2502",
   "metadata": {},
   "source": [
    "10. Python program for n-th Fibonacci number."
   ]
  },
  {
   "cell_type": "code",
   "execution_count": 40,
   "id": "8552e106",
   "metadata": {},
   "outputs": [],
   "source": [
    "def fibonacci(n):\n",
    "    if n <= 0:\n",
    "        return 0\n",
    "    elif n == 1:\n",
    "        return 1\n",
    "    \n",
    "    fib_sequence = [0, 1]\n",
    "    for i in range(2, n + 1):\n",
    "        next_fib = fib_sequence[i - 1] + fib_sequence[i - 2]\n",
    "        fib_sequence.append(next_fib)\n",
    "        \n",
    "    return fib_sequence"
   ]
  },
  {
   "cell_type": "code",
   "execution_count": 44,
   "id": "d5c5639c",
   "metadata": {},
   "outputs": [
    {
     "data": {
      "text/plain": [
       "[0, 1, 1, 2, 3]"
      ]
     },
     "execution_count": 44,
     "metadata": {},
     "output_type": "execute_result"
    }
   ],
   "source": [
    "fibonacci(4)"
   ]
  },
  {
   "cell_type": "markdown",
   "id": "d2a56e5c",
   "metadata": {},
   "source": [
    "11. Python program to check how a given number is a fibonacci number."
   ]
  },
  {
   "cell_type": "code",
   "execution_count": 60,
   "id": "7c4fd9e5",
   "metadata": {},
   "outputs": [],
   "source": [
    "def fibonacci_check(n):\n",
    "    if n <= 0:\n",
    "        return False\n",
    "    \n",
    "    sqrt1 = int((5 * n * n + 4) ** 0.5)\n",
    "    sqrt2 = int((5 * n * n - 4) ** 0.5)\n",
    "    \n",
    "    if sqrt1 * sqrt1 == 5 * n * n + 4 or sqrt2 * sqrt2 == 5 * n * n - 4:\n",
    "        return True\n",
    "    else:\n",
    "        return False"
   ]
  },
  {
   "cell_type": "code",
   "execution_count": 62,
   "id": "3d829653",
   "metadata": {},
   "outputs": [
    {
     "data": {
      "text/plain": [
       "True"
      ]
     },
     "execution_count": 62,
     "metadata": {},
     "output_type": "execute_result"
    }
   ],
   "source": [
    "fibonacci_check(5)"
   ]
  },
  {
   "cell_type": "markdown",
   "id": "1da72e16",
   "metadata": {},
   "source": [
    "12. Python program to n\\'th multiple of a number in the Fibonacci sequence."
   ]
  },
  {
   "cell_type": "code",
   "execution_count": 67,
   "id": "d7776317",
   "metadata": {},
   "outputs": [
    {
     "name": "stdout",
     "output_type": "stream",
     "text": [
      "Enter the number to find multiples of: 8\n",
      "Enter the value of n: 2\n",
      "There are fewer than 2 multiples of 8 in the Fibonacci sequence.\n"
     ]
    }
   ],
   "source": [
    "def n_fibonacci_multiple(number, n):\n",
    "    if n <= 0:\n",
    "        return None\n",
    "    \n",
    "    fib_sequence = [0, 1]\n",
    "    i = 2\n",
    "    \n",
    "    while i <= n:\n",
    "        next_fib = fib_sequence[i - 1] + fib_sequence[i - 2]\n",
    "        fib_sequence.append(next_fib)\n",
    "        i += 1\n",
    "        \n",
    "        if next_fib % number == 0:\n",
    "            n -= 1\n",
    "    \n",
    "    if n == 0:\n",
    "        return fib_sequence[-1]\n",
    "    else:\n",
    "        return None\n",
    "\n",
    "number = int(input(\"Enter the number to find multiples of: \"))\n",
    "n = int(input(\"Enter the value of n: \"))\n",
    "\n",
    "result = n_fibonacci_multiple(number, n)\n",
    "\n",
    "if result is not None:\n",
    "    print(f\"The {n}-th multiple of {number} in the Fibonacci sequence is {result}.\")\n",
    "else:\n",
    "    print(f\"There are fewer than {n} multiples of {number} in the Fibonacci sequence.\")"
   ]
  },
  {
   "cell_type": "markdown",
   "id": "ce67a67e",
   "metadata": {},
   "source": [
    "13. Python program to print an ASCII value of a character."
   ]
  },
  {
   "cell_type": "markdown",
   "id": "908e6344",
   "metadata": {},
   "source": [
    "ASCII characters are a method of representing numbers in digital form. Examples include representing ASCII digits in numerical form."
   ]
  },
  {
   "cell_type": "code",
   "execution_count": 39,
   "id": "4cc732cd",
   "metadata": {},
   "outputs": [
    {
     "name": "stdout",
     "output_type": "stream",
     "text": [
      "Enter a character: r\n",
      "114\n"
     ]
    }
   ],
   "source": [
    "c = str(input(\"Enter a character: \"))\n",
    "\n",
    "ascii_n = ord(c)\n",
    "print(ascii_n)"
   ]
  },
  {
   "cell_type": "code",
   "execution_count": 25,
   "id": "bb8dd4cc",
   "metadata": {},
   "outputs": [],
   "source": [
    "def ascii_number(c):\n",
    "    ascii_num = ord(c)\n",
    "    return ascii_num"
   ]
  },
  {
   "cell_type": "code",
   "execution_count": 29,
   "id": "bd6f402f",
   "metadata": {},
   "outputs": [
    {
     "data": {
      "text/plain": [
       "100"
      ]
     },
     "execution_count": 29,
     "metadata": {},
     "output_type": "execute_result"
    }
   ],
   "source": [
    "ascii_number(\"d\")"
   ]
  },
  {
   "cell_type": "markdown",
   "id": "a5cea19f",
   "metadata": {},
   "source": [
    "14. Python program for Sum of squares of first n natural numbers."
   ]
  },
  {
   "cell_type": "code",
   "execution_count": 30,
   "id": "9e9cefd5",
   "metadata": {},
   "outputs": [],
   "source": [
    "def sum_of_squares(n):\n",
    "    sum_result = 0\n",
    "    \n",
    "    for i in range(1, n+1):\n",
    "        sum_result += n ** 2\n",
    "    return sum_result"
   ]
  },
  {
   "cell_type": "code",
   "execution_count": 33,
   "id": "95d974c3",
   "metadata": {},
   "outputs": [
    {
     "data": {
      "text/plain": [
       "216"
      ]
     },
     "execution_count": 33,
     "metadata": {},
     "output_type": "execute_result"
    }
   ],
   "source": [
    "sum_of_squares(6)"
   ]
  },
  {
   "cell_type": "markdown",
   "id": "78a7674b",
   "metadata": {},
   "source": [
    "15. Python program for cube sum of first n natural numbers."
   ]
  },
  {
   "cell_type": "code",
   "execution_count": 36,
   "id": "4e22f8f9",
   "metadata": {},
   "outputs": [],
   "source": [
    "def sum_of_cubes(n):\n",
    "    sum_result = 0\n",
    "    \n",
    "    for i in range(1, n+1):\n",
    "        sum_result += n**3\n",
    "    return sum_result"
   ]
  },
  {
   "cell_type": "code",
   "execution_count": 38,
   "id": "e1bcc698",
   "metadata": {},
   "outputs": [
    {
     "data": {
      "text/plain": [
       "1296"
      ]
     },
     "execution_count": 38,
     "metadata": {},
     "output_type": "execute_result"
    }
   ],
   "source": [
    "sum_of_cubes(6)"
   ]
  }
 ],
 "metadata": {
  "kernelspec": {
   "display_name": "Python 3 (ipykernel)",
   "language": "python",
   "name": "python3"
  },
  "language_info": {
   "codemirror_mode": {
    "name": "ipython",
    "version": 3
   },
   "file_extension": ".py",
   "mimetype": "text/x-python",
   "name": "python",
   "nbconvert_exporter": "python",
   "pygments_lexer": "ipython3",
   "version": "3.8.13"
  },
  "toc": {
   "base_numbering": 1,
   "nav_menu": {},
   "number_sections": true,
   "sideBar": true,
   "skip_h1_title": false,
   "title_cell": "Table of Contents",
   "title_sidebar": "Contents",
   "toc_cell": false,
   "toc_position": {},
   "toc_section_display": true,
   "toc_window_display": false
  }
 },
 "nbformat": 4,
 "nbformat_minor": 5
}
